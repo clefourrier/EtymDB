{
 "cells": [
  {
   "cell_type": "code",
   "execution_count": 1,
   "metadata": {},
   "outputs": [],
   "source": [
    "# To read the .csv files\n",
    "import pandas as pd \n",
    "# To store the direct inheritance relations as a graph\n",
    "import networkx as nx"
   ]
  },
  {
   "cell_type": "markdown",
   "metadata": {},
   "source": [
    "# Data analysis notebook\n",
    "\n",
    "This data provides a few simple methods to rapidly analyse EtymDB's database. \n",
    "(It is very likely that there are more efficient ways to process its information, feel free to try new things.)"
   ]
  },
  {
   "cell_type": "markdown",
   "metadata": {},
   "source": [
    "## Utils"
   ]
  },
  {
   "cell_type": "code",
   "execution_count": 2,
   "metadata": {},
   "outputs": [],
   "source": [
    "def add_val_to_ctr_dict(cur_dict, key):\n",
    "    try:\n",
    "        cur_dict[key] += 1\n",
    "    except KeyError:\n",
    "        cur_dict[key] = 1"
   ]
  },
  {
   "cell_type": "markdown",
   "metadata": {},
   "source": [
    "# I. Data extraction\n",
    "This step is quite slow: building the relation trees can take up to half an hour per relation tree. It helps the naviagation later on, though."
   ]
  },
  {
   "cell_type": "code",
   "execution_count": 3,
   "metadata": {},
   "outputs": [],
   "source": [
    "path_values = \"../data/split_etymdb/etymdb_values.csv\"\n",
    "path_link = \"../data/split_etymdb/etymdb_links_info.csv\"\n",
    "\n",
    "df_values = pd.read_csv(path_values,\n",
    "                        sep='\\t',\n",
    "                        names=[\"id\", \"lang\", \"field\", \"lexeme\", \"meaning\"],\n",
    "                        dtype={\"id\": int, \"lang\": str, \"field\": int, \"meaning\": str}).set_index(\"id\")\n",
    "\n",
    "df_link = pd.read_csv(path_link,\n",
    "                      sep='\\t',\n",
    "                      names=[\"relation_type\", \"child\", \"parent\"],\n",
    "                      dtype={\"relation_type\": str, \"child\": int, \"parent\": int})\n",
    "\n",
    "df_inher = df_link.loc[df_link['relation_type'].isin([\"inh\"])]\n",
    "df_bor = df_link.loc[df_link['relation_type'].isin([\"bor\"])]\n",
    "df_cog = df_link.loc[df_link['relation_type'].isin([\"cog\"])]"
   ]
  },
  {
   "cell_type": "code",
   "execution_count": 4,
   "metadata": {},
   "outputs": [],
   "source": [
    "def get_graph(df: pd.DataFrame, df_values: pd.DataFrame, oriented: bool = True):\n",
    "    \"\"\" Builds a graph for the links between the different database lexemes. \n",
    "    \n",
    "    df: inheritance/borrowing/cognacy links dataframe\n",
    "    df_values: dataframe containing all the lexemes with their ids\n",
    "    oritented: True if inheritance, False otherwise\n",
    "    \"\"\"\n",
    "    tree = nx.DiGraph() if oriented else nx.Graph()\n",
    "\n",
    "    for index, row in df.iterrows():\n",
    "        child_ix = row[\"child\"]\n",
    "        parent_ix = row[\"parent\"]\n",
    "        if child_ix >= 0 and parent_ix >= 0: # We ignore compositional relationships in this demo \n",
    "            for node_ix in [child_ix, parent_ix]:\n",
    "                node_name = str(df_values.loc[node_ix].lexeme) + \"_\" + str(df_values.loc[node_ix].lang)\n",
    "                tree.add_node(node_name, \n",
    "                              lang=str(df_values.loc[node_ix].lang), \n",
    "                              lexeme= str(df_values.loc[node_ix].lexeme),\n",
    "                              meaning= str(df_values.loc[node_ix].meaning),\n",
    "                              id= int(node_ix))\n",
    "            tree.add_edge(str(df_values.loc[parent_ix].lexeme) + \"_\" + str(df_values.loc[parent_ix].lang), \n",
    "                          str(df_values.loc[child_ix].lexeme) + \"_\" + str(df_values.loc[child_ix].lang))\n",
    "    \n",
    "    return tree"
   ]
  },
  {
   "cell_type": "code",
   "execution_count": 5,
   "metadata": {},
   "outputs": [],
   "source": [
    "inher_graph = get_graph(df_inher, df_values) "
   ]
  },
  {
   "cell_type": "code",
   "execution_count": 6,
   "metadata": {},
   "outputs": [
    {
     "name": "stdout",
     "output_type": "stream",
     "text": [
      "This database contains 418329 words linked by 320524 inheritance relations\n"
     ]
    }
   ],
   "source": [
    "print(f\"This database contains {inher_graph.number_of_nodes()} words \" \\\n",
    "      f\"linked by {inher_graph.number_of_edges()} inheritance relations\")"
   ]
  },
  {
   "cell_type": "code",
   "execution_count": 7,
   "metadata": {},
   "outputs": [],
   "source": [
    "cog_graph = get_graph(df_cog, df_values, False)"
   ]
  },
  {
   "cell_type": "code",
   "execution_count": 8,
   "metadata": {},
   "outputs": [
    {
     "name": "stdout",
     "output_type": "stream",
     "text": [
      "This database contains 155084 words linked by 144072 cognacy relations\n"
     ]
    }
   ],
   "source": [
    "print(f\"This database contains {cog_graph.number_of_nodes()} words \" \\\n",
    "      f\"linked by {cog_graph.number_of_edges()} cognacy relations\")"
   ]
  },
  {
   "cell_type": "code",
   "execution_count": 35,
   "metadata": {},
   "outputs": [],
   "source": [
    "bor_graph = get_graph(df_bor, df_values) "
   ]
  },
  {
   "cell_type": "code",
   "execution_count": 36,
   "metadata": {},
   "outputs": [
    {
     "name": "stdout",
     "output_type": "stream",
     "text": [
      "This database contains 153340 words linked by 95920 borrowing relations\n"
     ]
    }
   ],
   "source": [
    "print(f\"This database contains {bor_graph.number_of_nodes()} words \" \\\n",
    "      f\"linked by {bor_graph.number_of_edges()} borrowing relations\")"
   ]
  },
  {
   "cell_type": "markdown",
   "metadata": {},
   "source": [
    "# II. General data analysis"
   ]
  },
  {
   "cell_type": "markdown",
   "metadata": {},
   "source": [
    "## II. 1 Data coverage"
   ]
  },
  {
   "cell_type": "markdown",
   "metadata": {},
   "source": [
    "### Total number of languges"
   ]
  },
  {
   "cell_type": "code",
   "execution_count": 11,
   "metadata": {},
   "outputs": [
    {
     "name": "stdout",
     "output_type": "stream",
     "text": [
      "Total number of languages in the base 2536\n",
      "Language with the most lexical items {'en': 911086, 'la': 69224, 'fr': 34488, 'it': 31295, 'de': 27009, 'grc': 25874, 'fi': 24682, 'ru': 24187, 'es': 22213, 'nl': 21863}\n"
     ]
    }
   ],
   "source": [
    "langs = {}\n",
    "\n",
    "for index, row in df_values.iterrows():\n",
    "    add_val_to_ctr_dict(langs, row[\"lang\"])\n",
    "\n",
    "print(f\"Total number of languages in the base {len(langs)}\")\n",
    "print(\"Language with the most lexical items\",\n",
    "      {key: langs[key] for key in sorted(langs, key=langs.get, reverse=True)[:10]})"
   ]
  },
  {
   "cell_type": "markdown",
   "metadata": {},
   "source": [
    "### Languages with more than 100 lexemes"
   ]
  },
  {
   "cell_type": "code",
   "execution_count": 12,
   "metadata": {},
   "outputs": [],
   "source": [
    "more_than_100 = {key: langs[key] for key in sorted(langs, key=langs.get, reverse=True) \n",
    "                 if (isinstance(key, str) and langs[key] > 100 and key.find(\"-pro\") == -1)}\n",
    "#print(f\"Get languages with more than a 100 lexical units, which are not proto languages (rough approx): {more_than_100}\")"
   ]
  },
  {
   "cell_type": "markdown",
   "metadata": {},
   "source": [
    "### Words with gloss"
   ]
  },
  {
   "cell_type": "code",
   "execution_count": 13,
   "metadata": {},
   "outputs": [
    {
     "name": "stdout",
     "output_type": "stream",
     "text": [
      "Total number of words with gloss 1129032, - Percentage of glossed words 0.5989222887201038\n"
     ]
    }
   ],
   "source": [
    "word_has_gloss = 0\n",
    "total_ctr = 0\n",
    "\n",
    "for index, row in df_values.iterrows():\n",
    "    total_ctr += 1\n",
    "    if str(row[\"meaning\"]) not in [\"\", \"nan\"]:\n",
    "        word_has_gloss += 1\n",
    "print(f\"Total number of words with gloss {word_has_gloss} - Percentage of glossed words {word_has_gloss/total_ctr}\")"
   ]
  },
  {
   "cell_type": "markdown",
   "metadata": {},
   "source": [
    "### Percentage of words from a given language"
   ]
  },
  {
   "cell_type": "code",
   "execution_count": 14,
   "metadata": {},
   "outputs": [
    {
     "name": "stdout",
     "output_type": "stream",
     "text": [
      "Percentage of words from en: 0.48330756997219254. Total number: 911086\n"
     ]
    }
   ],
   "source": [
    "lang = \"en\" # For example, English\n",
    "word_is_lang = 0\n",
    "\n",
    "for index, row in df_values.iterrows():\n",
    "    if str(row[\"lang\"]) == lang:\n",
    "        word_is_lang += 1\n",
    "\n",
    "print(f\"Percentage of words from {lang}: {word_is_lang/len(df_values)}. Total number: {word_is_lang}\")"
   ]
  },
  {
   "cell_type": "markdown",
   "metadata": {},
   "source": [
    "## II.2 Relations between languages"
   ]
  },
  {
   "cell_type": "markdown",
   "metadata": {},
   "source": [
    "### Languages with the absolute most relations"
   ]
  },
  {
   "cell_type": "code",
   "execution_count": 38,
   "metadata": {},
   "outputs": [],
   "source": [
    "def get_linked_languages(key, link_dict, tree):\n",
    "    \"\"\"Counts the number of relations between the different languages, either from the top to the bottom or the opposite\"\"\"\n",
    "    oriented = True if isinstance(tree, nx.DiGraph) else False\n",
    "    for node_ix in tree.nodes:\n",
    "        lang = tree.nodes[node_ix][\"lang\"]\n",
    "        if lang not in link_dict[key].keys():\n",
    "            link_dict[key][lang] = {}\n",
    "            \n",
    "        tree_enum = tree.neighbors(node_ix) if not oriented else \\\n",
    "            (tree.predecessors(node_ix) if \"children => parent\" in key else tree.successors(node_ix))\n",
    "        for ngbr_ix in tree_enum:\n",
    "            ngbr_lang = tree.nodes[ngbr_ix][\"lang\"]\n",
    "            add_val_to_ctr_dict(link_dict[key][lang], ngbr_lang)\n",
    "    return link_dict\n",
    "\n",
    "linked_languages = {\"Inheritance: children => parent\": {}, \"Inheritance: parent => children\": {}, \"Cognacy\": {}, \n",
    "                    \"Borrowing: children => parent\": {}, \"Borrowing: parent => children\": {}}\n",
    "for key, graph in {\"Inheritance: children => parent\": inher_graph, \"Inheritance: parent => children\": inher_graph, \n",
    "                   \"Cognacy\": cog_graph, \n",
    "                   \"Borrowing: children => parent\": bor_graph, \"Borrowing: parent => children\": bor_graph}.items():\n",
    "    linked_languages = get_linked_languages(key, linked_languages, graph)\n",
    "    "
   ]
  },
  {
   "cell_type": "code",
   "execution_count": 39,
   "metadata": {},
   "outputs": [
    {
     "name": "stdout",
     "output_type": "stream",
     "text": [
      "------ Languages with the most relations in the tree.\n",
      "Inheritance: children => parent ['en', 'it', 'enm', 'fr', 'la']\n",
      "Inheritance: parent => children ['la', 'gem-pro', 'ine-pro', 'sla-pro', 'grc']\n",
      "Cognacy ['en', 'de', 'nl', 'la', 'ang']\n",
      "Borrowing: children => parent ['en', 'pt', 'hi', 'fr', 'ru']\n",
      "Borrowing: parent => children ['en', 'la', 'fr', 'grc', 'sa']\n",
      "------ Languages with the least relations in the tree.\n",
      "Inheritance: children => parent ['kmb', 'euq-pro', 'qfa-cka-pro', 'map-pro', 'ath-pro']\n",
      "Inheritance: parent => children ['pap', 'fax', 'gmw-zps', 'pnt', 'lld']\n",
      "Cognacy ['jpx-ryu-pro', 'mhu', 'trk', 'bds', 'tgn']\n",
      "Borrowing: children => parent ['fro-nor', 'kmb', 'la-ecc', 'lng', 'hbo']\n",
      "Borrowing: parent => children ['yly', 'mic', 'zpq', 'lb', 'zos']\n"
     ]
    }
   ],
   "source": [
    "for most in [True, False]:\n",
    "    print(f\"------ Languages with the {'most' if most else 'least'} relations in the tree.\")\n",
    "    for rel_type, rel_dict in linked_languages.items():\n",
    "        all_link_dict = {k: sum(list(v.values())) for k, v in rel_dict.items()}\n",
    "        print(rel_type, sorted(all_link_dict, key=all_link_dict.get, reverse=most)[:5])"
   ]
  },
  {
   "cell_type": "markdown",
   "metadata": {},
   "source": [
    "### Get the n most frequent neighbors for a given language"
   ]
  },
  {
   "cell_type": "code",
   "execution_count": 41,
   "metadata": {},
   "outputs": [],
   "source": [
    "n = 5\n",
    "linked_languages_max = {\n",
    "    rel_type: {\n",
    "        lang: {\n",
    "            f_name: friends[f_name] for f_name in sorted(friends, key=friends.get, reverse=True)[:n]\n",
    "        } for lang, friends in rel_dict.items()\n",
    "    } for rel_type, rel_dict in linked_languages.items()\n",
    "}"
   ]
  },
  {
   "cell_type": "code",
   "execution_count": 43,
   "metadata": {},
   "outputs": [
    {
     "name": "stdout",
     "output_type": "stream",
     "text": [
      "Most frequent neighbors for lang fro\n",
      "Inheritance: children => parent {'la': 3886, 'la-vul': 680, 'la-lat': 464, 'frk': 310, 'la-med': 272}\n",
      "Inheritance: parent => children {'fr': 2001, 'nrf': 1554, 'frm': 1532, 'en': 1308, 'enm': 1299}\n",
      "Cognacy {'en': 161, 'fro': 50, 'it': 42, 'pro': 32, 'fr': 27}\n",
      "Borrowing: children => parent {'la': 354, 'frk': 50, 'la-lat': 23, 'la-med': 12, 'non': 10}\n",
      "Borrowing: parent => children {'enm': 1039, 'en': 369, 'it': 67, 'gl': 46, 'ga': 40}\n"
     ]
    }
   ],
   "source": [
    "max_lang = \"fro\"\n",
    "print(\"Most frequent neighbors for lang\", max_lang)\n",
    "for rel_type, rel_dict in linked_languages_max.items():\n",
    "    try:\n",
    "        print(rel_type, rel_dict[max_lang])\n",
    "    except KeyError:\n",
    "        pass"
   ]
  },
  {
   "cell_type": "markdown",
   "metadata": {},
   "source": [
    "### Total number of relations of each type for a given language"
   ]
  },
  {
   "cell_type": "code",
   "execution_count": 45,
   "metadata": {},
   "outputs": [],
   "source": [
    "linked_languages_all = {\n",
    "    rel_type: {\n",
    "        lang: sum([v for k, v in friends.items()])\n",
    "         for lang, friends in rel_dict.items()\n",
    "    } for rel_type, rel_dict in linked_languages.items()\n",
    "}"
   ]
  },
  {
   "cell_type": "code",
   "execution_count": 48,
   "metadata": {},
   "outputs": [
    {
     "name": "stdout",
     "output_type": "stream",
     "text": [
      "Total number of relations of a type for lang sa\n",
      "1724 relations of type Inheritance: children => parent\n",
      "7877 relations of type Inheritance: parent => children\n",
      "4710 relations of type Cognacy\n",
      "45 relations of type Borrowing: children => parent\n",
      "4513 relations of type Borrowing: parent => children\n",
      "18869\n"
     ]
    }
   ],
   "source": [
    "sum_lang = \"sa\"\n",
    "print(\"Total number of relations of a type for lang\", sum_lang)\n",
    "sum = 0\n",
    "for rel_type, rel_dict in linked_languages_all.items():\n",
    "    print(f\"{rel_dict[sum_lang]} relations of type {rel_type}\")\n",
    "    sum += rel_dict[sum_lang]\n",
    "print(sum)"
   ]
  },
  {
   "cell_type": "code",
   "execution_count": null,
   "metadata": {},
   "outputs": [],
   "source": []
  }
 ],
 "metadata": {
  "kernelspec": {
   "display_name": "Python 3",
   "language": "python",
   "name": "python3"
  },
  "language_info": {
   "codemirror_mode": {
    "name": "ipython",
    "version": 3
   },
   "file_extension": ".py",
   "mimetype": "text/x-python",
   "name": "python",
   "nbconvert_exporter": "python",
   "pygments_lexer": "ipython3",
   "version": "3.7.5"
  }
 },
 "nbformat": 4,
 "nbformat_minor": 2
}
